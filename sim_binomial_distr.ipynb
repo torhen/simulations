{
 "cells": [
  {
   "cell_type": "code",
   "execution_count": 1,
   "id": "2d6c1861",
   "metadata": {},
   "outputs": [],
   "source": [
    "from ipycanvas import Canvas, hold_canvas\n",
    "import random\n",
    "import time"
   ]
  },
  {
   "cell_type": "code",
   "execution_count": 2,
   "id": "80a72fed",
   "metadata": {},
   "outputs": [],
   "source": [
    "class Coin:\n",
    "    def __init__(self, x, y, r):\n",
    "        self.x = x\n",
    "        self.y = y\n",
    "        self.r = r\n",
    "        self.content = 0\n",
    "        \n",
    "    def set(self, content):\n",
    "        self.content = content\n",
    "        \n",
    "    def rand(self):\n",
    "        r = random.random()\n",
    "        if r < 0.5:\n",
    "            self.content = 0\n",
    "        else:\n",
    "            self.content = 1\n",
    "            \n",
    "        \n",
    "    def draw(self):\n",
    "        if self.content:\n",
    "            can.fill_circle(self.x, self.y, self.r)\n",
    "        else:\n",
    "            can.stroke_circle(self.x, self.y, self.r)"
   ]
  },
  {
   "cell_type": "code",
   "execution_count": 3,
   "id": "de75c8bf",
   "metadata": {},
   "outputs": [],
   "source": [
    "class Chain:\n",
    "    def __init__(self, x, y, n, r, spacing):\n",
    "        self.x = x\n",
    "        self.y = y\n",
    "        self.n = n\n",
    "        self.r = r\n",
    "        self.spacing = spacing\n",
    "        self.coins = []\n",
    "        for i in range(self.n):\n",
    "            coin = Coin(self.x + i * self.spacing, self.y, self.r)\n",
    "            coin.rand()\n",
    "            self.coins.append(coin)\n",
    "            \n",
    "    def rand(self):\n",
    "        for coin in self.coins:\n",
    "            coin.rand()\n",
    "            \n",
    "    def get_content(self):\n",
    "        c = 0\n",
    "        for coin in self.coins:\n",
    "            c += coin.content\n",
    "        return c\n",
    "            \n",
    "    def draw(self):\n",
    "        s = 0\n",
    "        # draw coins\n",
    "        for coin in self.coins:\n",
    "            coin.draw()\n",
    "            s += coin.content\n",
    "        # draw number\n",
    "        can.font = f'{2 * self.r}px consolas'\n",
    "        can.fill_text(s, self.x + self.n * self.spacing, self.y + 0.7 * self.r)\n",
    "        "
   ]
  },
  {
   "cell_type": "code",
   "execution_count": 4,
   "id": "9f811862",
   "metadata": {},
   "outputs": [],
   "source": [
    "class Diagram:\n",
    "    def __init__(self, x, y, xs, ys, spacing, bottom, scaling, fontsize, border):\n",
    "        self.x = x\n",
    "        self.y = y\n",
    "        self.xs = xs\n",
    "        self.ys = ys\n",
    "        self.spacing = spacing\n",
    "        self.bottom = bottom\n",
    "        self.scaling = scaling\n",
    "        self.fontsize = fontsize\n",
    "        self.border = border\n",
    "        self.data = [0.25, 0.5, 0.75, 1.0]\n",
    "        \n",
    "    def set_data(self, data):\n",
    "        self.data = data\n",
    "        \n",
    "    def draw(self):\n",
    "        # draw border\n",
    "        if self.border:\n",
    "            can.stroke_rect(self.x, self.y, self.xs, self.ys)\n",
    "        \n",
    "        for i, v in enumerate(self.data):\n",
    "            x0 = self.x  +  self.spacing * (i + 1)\n",
    "            y0 = self.y + self.ys - self.bottom\n",
    "            y1 = y0 - self.scaling * v\n",
    "            can.stroke_line(x0, y0, x0, y1)\n",
    "            # axis test\n",
    "            can.font = f'{self.fontsize}px consolas'\n",
    "            can.fill_text(i, x0 - self.fontsize/4, y0 + self.fontsize)"
   ]
  },
  {
   "cell_type": "code",
   "execution_count": 5,
   "id": "86440ebf",
   "metadata": {},
   "outputs": [],
   "source": [
    "def make_counter(n, data):\n",
    "    dic = {}\n",
    "    for i in range(n + 1):\n",
    "        dic[i] = 0\n",
    "\n",
    "    for v in data:\n",
    "        dic[v] = dic[v] + 1\n",
    "    return list(dic.values())"
   ]
  },
  {
   "cell_type": "code",
   "execution_count": 6,
   "id": "4b173a17",
   "metadata": {},
   "outputs": [
    {
     "data": {
      "application/vnd.jupyter.widget-view+json": {
       "model_id": "ca366c175bfc4fd1bab1897f99488dfb",
       "version_major": 2,
       "version_minor": 0
      },
      "text/plain": [
       "Canvas(height=200, width=300)"
      ]
     },
     "metadata": {},
     "output_type": "display_data"
    }
   ],
   "source": [
    "can = Canvas(width = 300, height=200)\n",
    "can.stroke_rect(0, 0, can.width, can.height)\n",
    "can"
   ]
  },
  {
   "cell_type": "code",
   "execution_count": 18,
   "id": "89b7d089",
   "metadata": {},
   "outputs": [],
   "source": [
    "coins = 7\n",
    "chain = Chain(x=70, y=25, n=coins, r=8, spacing=25)\n",
    "dia = Diagram(x=25, y=50, xs=240, ys=120, spacing=28, bottom=10, scaling=0.3, fontsize=12, border=False)\n",
    "data = []\n",
    "for k in range(1, 1000):\n",
    "    with hold_canvas(can):\n",
    "        # clear canvas\n",
    "        can.clear()\n",
    "        can.stroke_rect(0, 0, can.width, can.height)\n",
    "        # draw chain\n",
    "        chain.draw()\n",
    "        chain.rand()\n",
    "        data.append(chain.get_content())\n",
    "        # draw diagram\n",
    "        counter = make_counter(coins, data)\n",
    "        dia.set_data(counter)\n",
    "        dia.draw()\n",
    "        sl = (2 / k)\n",
    "        time.sleep(sl)"
   ]
  },
  {
   "cell_type": "code",
   "execution_count": null,
   "id": "b208317b",
   "metadata": {},
   "outputs": [],
   "source": []
  }
 ],
 "metadata": {
  "kernelspec": {
   "display_name": "Python 3",
   "language": "python",
   "name": "python3"
  },
  "language_info": {
   "codemirror_mode": {
    "name": "ipython",
    "version": 3
   },
   "file_extension": ".py",
   "mimetype": "text/x-python",
   "name": "python",
   "nbconvert_exporter": "python",
   "pygments_lexer": "ipython3",
   "version": "3.7.10"
  }
 },
 "nbformat": 4,
 "nbformat_minor": 5
}
